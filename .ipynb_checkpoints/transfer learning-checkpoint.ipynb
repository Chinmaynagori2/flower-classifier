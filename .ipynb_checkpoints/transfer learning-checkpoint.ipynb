{
 "cells": [
  {
   "cell_type": "code",
   "execution_count": 1,
   "id": "c1268234",
   "metadata": {},
   "outputs": [
    {
     "name": "stdout",
     "output_type": "stream",
     "text": [
      "WARNING:tensorflow:From C:\\Users\\Chinmay\\AppData\\Local\\Programs\\Python\\Python310\\lib\\site-packages\\tensorflow\\python\\autograph\\pyct\\static_analysis\\liveness.py:83: Analyzer.lamba_check (from tensorflow.python.autograph.pyct.static_analysis.liveness) is deprecated and will be removed after 2023-09-23.\n",
      "Instructions for updating:\n",
      "Lambda fuctions will be no more assumed to be used in the statement where they are used, or at least in the same block. https://github.com/tensorflow/tensorflow/issues/56089\n"
     ]
    },
    {
     "name": "stderr",
     "output_type": "stream",
     "text": [
      "WARNING:tensorflow:From C:\\Users\\Chinmay\\AppData\\Local\\Programs\\Python\\Python310\\lib\\site-packages\\tensorflow\\python\\autograph\\pyct\\static_analysis\\liveness.py:83: Analyzer.lamba_check (from tensorflow.python.autograph.pyct.static_analysis.liveness) is deprecated and will be removed after 2023-09-23.\n",
      "Instructions for updating:\n",
      "Lambda fuctions will be no more assumed to be used in the statement where they are used, or at least in the same block. https://github.com/tensorflow/tensorflow/issues/56089\n"
     ]
    }
   ],
   "source": [
    "import tensorflow as tf\n",
    "from tensorflow.keras import layers\n",
    "import tensorflow_hub as hub\n",
    "classifier = tf.keras.Sequential([\n",
    "    hub.KerasLayer(\"https://www.kaggle.com/models/google/mobilenet-v2/frameworks/TensorFlow2/variations/tf2-preview-classification/versions/4\", output_shape=[1001])\n",
    "])\n",
    "classifier.build([None, 224, 224, 3])"
   ]
  },
  {
   "cell_type": "code",
   "execution_count": 2,
   "id": "7cdd61bb",
   "metadata": {},
   "outputs": [
    {
     "ename": "error",
     "evalue": "OpenCV(4.5.5) D:\\a\\opencv-python\\opencv-python\\opencv\\modules\\imgproc\\src\\resize.cpp:4052: error: (-215:Assertion failed) !ssize.empty() in function 'cv::resize'\n",
     "output_type": "error",
     "traceback": [
      "\u001b[1;31m---------------------------------------------------------------------------\u001b[0m",
      "\u001b[1;31merror\u001b[0m                                     Traceback (most recent call last)",
      "Input \u001b[1;32mIn [2]\u001b[0m, in \u001b[0;36m<cell line: 3>\u001b[1;34m()\u001b[0m\n\u001b[0;32m      1\u001b[0m \u001b[38;5;28;01mimport\u001b[39;00m \u001b[38;5;21;01mcv2\u001b[39;00m \u001b[38;5;28;01mas\u001b[39;00m \u001b[38;5;21;01mcv\u001b[39;00m\n\u001b[0;32m      2\u001b[0m img_data \u001b[38;5;241m=\u001b[39m cv\u001b[38;5;241m.\u001b[39mimread(\u001b[38;5;124m'\u001b[39m\u001b[38;5;124mhen.jpg\u001b[39m\u001b[38;5;124m'\u001b[39m)\n\u001b[1;32m----> 3\u001b[0m img_data \u001b[38;5;241m=\u001b[39m \u001b[43mcv\u001b[49m\u001b[38;5;241;43m.\u001b[39;49m\u001b[43mresize\u001b[49m\u001b[43m(\u001b[49m\u001b[43mimg_data\u001b[49m\u001b[43m,\u001b[49m\u001b[43m(\u001b[49m\u001b[38;5;241;43m224\u001b[39;49m\u001b[43m,\u001b[49m\u001b[38;5;241;43m224\u001b[39;49m\u001b[43m)\u001b[49m\u001b[43m)\u001b[49m\n\u001b[0;32m      4\u001b[0m img_data \u001b[38;5;241m=\u001b[39m img_data\u001b[38;5;241m/\u001b[39m\u001b[38;5;241m255\u001b[39m\n\u001b[0;32m      5\u001b[0m img_data \u001b[38;5;241m=\u001b[39m img_data[\u001b[38;5;28;01mNone\u001b[39;00m, \u001b[38;5;241m.\u001b[39m\u001b[38;5;241m.\u001b[39m\u001b[38;5;241m.\u001b[39m]\n",
      "\u001b[1;31merror\u001b[0m: OpenCV(4.5.5) D:\\a\\opencv-python\\opencv-python\\opencv\\modules\\imgproc\\src\\resize.cpp:4052: error: (-215:Assertion failed) !ssize.empty() in function 'cv::resize'\n"
     ]
    }
   ],
   "source": [
    "import cv2 as cv\n",
    "img_data = cv.imread('hen.jpg')\n",
    "img_data = cv.resize(img_data,(224,224))\n",
    "img_data = img_data/255\n",
    "img_data = img_data[None, ...]\n",
    "# img_data.dtype   => dtype('float64')\n",
    "wht = classifier.predict(img_data)\n",
    "wht"
   ]
  },
  {
   "cell_type": "code",
   "execution_count": null,
   "id": "6232d018",
   "metadata": {},
   "outputs": [],
   "source": [
    "import numpy as np\n",
    "np.argmax(wht)\n",
    "# np.max(wht)"
   ]
  },
  {
   "cell_type": "code",
   "execution_count": null,
   "id": "858530c2",
   "metadata": {},
   "outputs": [],
   "source": [
    "# dataset downloaded from \"https://www.kaggle.com/datasets/imsparsh/flowers-dataset\"\n",
    "data_dir = \"C:/Users/Chinmay/Downloads/tf/dataset\"\n",
    "data_tulip = \"C:/Users/Chinmay/Downloads/tf/dataset/tulips\"\n",
    "import pathlib\n",
    "import os\n",
    "data_dir = pathlib.Path(data_dir)            # converts image path to windows path\n",
    "flowers=[]\n",
    "for i in os.listdir(data_dir):\n",
    "    flowers.append(i)\n",
    "print(flowers)"
   ]
  },
  {
   "cell_type": "code",
   "execution_count": null,
   "id": "6590f5a9",
   "metadata": {},
   "outputs": [],
   "source": [
    "\n",
    "# another way fo making this dictionary\n",
    "flower_images_dict = {\n",
    "    'roses': list(data_dir.glob('roses/*')),\n",
    "    'daisy': list(data_dir.glob('daisy/*')),\n",
    "    'dandelion': list(data_dir.glob('dandelion/*')),\n",
    "    'sunflowers': list(data_dir.glob('sunflowers/*')),\n",
    "    'tulips': list(data_dir.glob('tulips/*')),\n",
    "}\n",
    "\n",
    "    \n",
    "flower_label = {\n",
    "    \"roses\" : 0,\n",
    "    \"daisy\" : 1,\n",
    "    \"dandelion\" : 2,\n",
    "    \"sunflowers\" : 3,\n",
    "    \"tulips\" : 4\n",
    "}\n",
    "x,y = [],[]\n",
    "\n",
    "for i in flower_images_dict:\n",
    "    for img in flower_images_dict[i]:\n",
    "        f_img = cv.imread(str(img))\n",
    "        f_img_resized = cv.resize(f_img,(224,224))\n",
    "        x.append(f_img_resized)\n",
    "        y.append(flower_label[i])\n",
    "x = np.array(x)\n",
    "y = np.array(y)\n",
    "from sklearn.model_selection import train_test_split\n",
    "x_train,x_test,y_train,y_test = train_test_split(x,y,test_size= 0.25, random_state=42)\n",
    "x_train = x_train/255\n",
    "x_test = x_test/255"
   ]
  },
  {
   "cell_type": "code",
   "execution_count": null,
   "id": "d17b1ff0",
   "metadata": {},
   "outputs": [],
   "source": [
    "# for i in flower_images_dict:\n",
    "#     print(flower_images_dict[i][0])"
   ]
  },
  {
   "cell_type": "code",
   "execution_count": null,
   "id": "eb46783f",
   "metadata": {},
   "outputs": [],
   "source": [
    "# axe = np.array([x_train[0],x_train[1],x_train[2]])"
   ]
  },
  {
   "cell_type": "code",
   "execution_count": null,
   "id": "9ffe4b25",
   "metadata": {},
   "outputs": [],
   "source": [
    "# cv.imshow('img',x_train[0])\n",
    "# cv.waitKey(0)        # waits infinte time for any keyboard key to press"
   ]
  },
  {
   "cell_type": "code",
   "execution_count": null,
   "id": "2465167b",
   "metadata": {},
   "outputs": [],
   "source": [
    "# predicted = classifier.predict(axe)"
   ]
  },
  {
   "cell_type": "code",
   "execution_count": null,
   "id": "ba8365a6",
   "metadata": {},
   "outputs": [],
   "source": [
    "# predicted"
   ]
  },
  {
   "cell_type": "code",
   "execution_count": null,
   "id": "3691470e",
   "metadata": {},
   "outputs": [],
   "source": [
    "# predicted_classes=[np.argmax(element) for element in predicted]"
   ]
  },
  {
   "cell_type": "code",
   "execution_count": null,
   "id": "d3407327",
   "metadata": {},
   "outputs": [],
   "source": [
    "# predicted_classes"
   ]
  },
  {
   "cell_type": "code",
   "execution_count": null,
   "id": "3602f8d9",
   "metadata": {},
   "outputs": [],
   "source": [
    "# names= []\n",
    "# with open(r\"C:\\Users\\Chinmay\\Downloads\\tf\\ImageNetLabels.txt\", 'r') as file:\n",
    "#     names = file.read().splitlines()\n",
    "# names"
   ]
  },
  {
   "cell_type": "code",
   "execution_count": null,
   "id": "572d3ef5",
   "metadata": {},
   "outputs": [],
   "source": [
    "# print(names[986])\n",
    "# print(names[81])"
   ]
  },
  {
   "cell_type": "markdown",
   "id": "7112cc42",
   "metadata": {},
   "source": [
    "# transform images into feature vectors"
   ]
  },
  {
   "cell_type": "code",
   "execution_count": null,
   "id": "1ad11347",
   "metadata": {},
   "outputs": [],
   "source": [
    "model = tf.keras.Sequential([\n",
    "    hub.KerasLayer(\"https://www.kaggle.com/models/google/mobilenet-v2/frameworks/TensorFlow2/variations/tf2-preview-classification/versions/4\",input_shape=(224, 224, 3),trainable=False),\n",
    "    layers.Dense(5, activation='softmax')\n",
    "])"
   ]
  },
  {
   "cell_type": "code",
   "execution_count": null,
   "id": "63d5d945",
   "metadata": {},
   "outputs": [],
   "source": [
    "# model2 = Sequential([\n",
    "#     hub.KerasLayer(\"https://tfhub.dev/google/tf2-preview/mobilenet_v2/feature_vector/4\",trainable=False),\n",
    "#     layers.Dense(5, activation='softmax')\n",
    "# ])\n",
    "# model2.build([None,224, 224, 3])"
   ]
  },
  {
   "cell_type": "code",
   "execution_count": null,
   "id": "a06934f1",
   "metadata": {},
   "outputs": [],
   "source": [
    "x_train.shape"
   ]
  },
  {
   "cell_type": "code",
   "execution_count": null,
   "id": "386593ef",
   "metadata": {},
   "outputs": [],
   "source": []
  },
  {
   "cell_type": "code",
   "execution_count": null,
   "id": "ff5a6eec",
   "metadata": {},
   "outputs": [],
   "source": []
  },
  {
   "cell_type": "code",
   "execution_count": null,
   "id": "0ee9fd0f",
   "metadata": {},
   "outputs": [],
   "source": [
    "model.summary()"
   ]
  },
  {
   "cell_type": "code",
   "execution_count": null,
   "id": "2d709262",
   "metadata": {},
   "outputs": [],
   "source": [
    "model.compile(optimizer='adam',loss=tf.keras.losses.SparseCategoricalCrossentropy(from_logits=False),metrics=['accuracy'])\n",
    "model.fit(x_train,y_train,epochs=5)"
   ]
  },
  {
   "cell_type": "code",
   "execution_count": null,
   "id": "92e8b371",
   "metadata": {},
   "outputs": [],
   "source": [
    "model.evaluate(x_test,y_test)"
   ]
  },
  {
   "cell_type": "markdown",
   "id": "0728601a",
   "metadata": {},
   "source": [
    "testing accuracy is less than training accuracy"
   ]
  },
  {
   "cell_type": "markdown",
   "id": "c518034e",
   "metadata": {},
   "source": [
    "## we can use data augmentation to do better on test dataset"
   ]
  },
  {
   "cell_type": "code",
   "execution_count": null,
   "id": "faf3565e",
   "metadata": {},
   "outputs": [],
   "source": [
    "data_augmentation = tf.keras.Sequential([\n",
    "    layers.experimental.preprocessing.RandomZoom(0.3, input_shape=(224, 224, 3)),\n",
    "    layers.experimental.preprocessing.RandomContrast(0.3),\n",
    "    layers.experimental.preprocessing.RandomRotation(0.3)\n",
    "])"
   ]
  },
  {
   "cell_type": "code",
   "execution_count": null,
   "id": "83c61774",
   "metadata": {},
   "outputs": [],
   "source": [
    "model2 = tf.keras.Sequential([\n",
    "    data_augmentation,\n",
    "    hub.KerasLayer(\"https://www.kaggle.com/models/google/mobilenet-v2/frameworks/TensorFlow2/variations/tf2-preview-classification/versions/4\",input_shape=(224, 224, 3),trainable=False),\n",
    "    layers.Dense(5, activation='softmax')\n",
    "])\n"
   ]
  },
  {
   "cell_type": "code",
   "execution_count": null,
   "id": "00590f1f",
   "metadata": {},
   "outputs": [],
   "source": [
    "model2.compile(optimizer='adam',loss=tf.keras.losses.SparseCategoricalCrossentropy(from_logits=False),metrics=['accuracy'])\n",
    "model2.fit(x_train,y_train,epochs=5)"
   ]
  },
  {
   "cell_type": "code",
   "execution_count": null,
   "id": "43b0cd13",
   "metadata": {},
   "outputs": [],
   "source": [
    "model.evaluate(x_test,y_test)"
   ]
  }
 ],
 "metadata": {
  "kernelspec": {
   "display_name": "Python 3 (ipykernel)",
   "language": "python",
   "name": "python3"
  },
  "language_info": {
   "codemirror_mode": {
    "name": "ipython",
    "version": 3
   },
   "file_extension": ".py",
   "mimetype": "text/x-python",
   "name": "python",
   "nbconvert_exporter": "python",
   "pygments_lexer": "ipython3",
   "version": "3.10.2"
  }
 },
 "nbformat": 4,
 "nbformat_minor": 5
}
